{
 "cells": [
  {
   "cell_type": "code",
   "execution_count": null,
   "metadata": {
    "vscode": {
     "languageId": "plaintext"
    }
   },
   "outputs": [],
   "source": [
    "import whisperx\n",
    "import torch\n",
    "import os\n",
    "\n",
    "# Çalışma dizinini tangible klasörüne ayarla\n",
    "os.chdir('..')\n",
    "\n",
    "# Şu anki çalışma dizinini kontrol et\n",
    "print(os.getcwd())\n",
    "\n",
    "def transcribe_audio(audio_path, output_path, language='tr'):\n",
    "    # Whisper modelini yükleyin\n",
    "    model = whisperx.load_model(\"large\")  # \"base\", \"small\", \"medium\", \"large\" modellerinden birini seçebilirsiniz\n",
    "\n",
    "    # Transkripsiyon (manuel dil belirtimi)\n",
    "    result = model.transcribe(audio_path, language=language)\n",
    "\n",
    "    # Dil modelini yükleyin (transkript ile hizalamak için)\n",
    "    model_a, metadata = whisperx.load_align_model(language_code=language, device=\"cuda\" if torch.cuda.is_available() else \"cpu\")\n",
    "\n",
    "    # Transkripti hizalayın\n",
    "    result_aligned = whisperx.align(result[\"segments\"], model_a, metadata, audio_path, device=\"cuda\" if torch.cuda.is_available() else \"cpu\")\n",
    "\n",
    "    # Konuşmacı ayrıştırması için diarization\n",
    "    diarization = whisperx.diarize(audio_path)\n",
    "    result_aligned[\"speaker_labels\"] = diarization.labels\n",
    "\n",
    "    # Sonuçları kaydet\n",
    "    with open(output_path, \"w\", encoding=\"utf-8\") as f:\n",
    "        for segment in result_aligned[\"segments\"]:\n",
    "            f.write(f\"{segment['start']} - {segment['end']} | {segment['speaker']} | {segment['text']}\\n\")\n",
    "\n",
    "    print(f\"Transkripsiyon ve konuşmacı ayrıştırması tamamlandı: {output_path}\")\n",
    "\n",
    "# Ses dosyalarınızın bulunduğu klasörün yolunu belirtin\n",
    "audio_folder = \"data/\"  # Klasör yolunu güncelleyin\n",
    "\n",
    "# Sonuçları kaydetmek için bir klasör oluşturun\n",
    "output_folder = \"sonuclar/\"\n",
    "os.makedirs(output_folder, exist_ok=True)\n",
    "\n",
    "# Klasördeki tüm ses dosyalarını işleyin\n",
    "for filename in os.listdir(audio_folder):\n",
    "    if filename.endswith((\".mp3\", \".wav\", \".m4a\", \".flac\")):\n",
    "        audio_path = os.path.join(audio_folder, filename)\n",
    "        output_path = os.path.join(output_folder, f\"{os.path.splitext(filename)[0]}.txt\")\n",
    "        print(f\"İşleniyor: {filename}\")\n",
    "        transcribe_audio(audio_path, output_path)\n"
   ]
  }
 ],
 "metadata": {
  "language_info": {
   "name": "python"
  }
 },
 "nbformat": 4,
 "nbformat_minor": 2
}
