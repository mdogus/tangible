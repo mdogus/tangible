{
 "cells": [
  {
   "cell_type": "code",
   "execution_count": 1,
   "metadata": {},
   "outputs": [
    {
     "name": "stderr",
     "output_type": "stream",
     "text": [
      "c:\\Users\\musta\\Documents\\Python Projects\\tangible\\venv\\Lib\\site-packages\\tqdm\\auto.py:21: TqdmWarning: IProgress not found. Please update jupyter and ipywidgets. See https://ipywidgets.readthedocs.io/en/stable/user_install.html\n",
      "  from .autonotebook import tqdm as notebook_tqdm\n",
      "c:\\Users\\musta\\Documents\\Python Projects\\tangible\\venv\\Lib\\site-packages\\huggingface_hub\\file_download.py:140: UserWarning: `huggingface_hub` cache-system uses symlinks by default to efficiently store duplicated files but your machine does not support them in C:\\Users\\musta\\.cache\\huggingface\\hub\\models--cenkersisman--gpt2-turkish-900m. Caching files will still work but in a degraded version that might require more space on your disk. This warning can be disabled by setting the `HF_HUB_DISABLE_SYMLINKS_WARNING` environment variable. For more details, see https://huggingface.co/docs/huggingface_hub/how-to-cache#limitations.\n",
      "To support symlinks on Windows, you either need to activate Developer Mode or to run Python as an administrator. In order to activate developer mode, see this article: https://docs.microsoft.com/en-us/windows/apps/get-started/enable-your-device-for-development\n",
      "  warnings.warn(message)\n"
     ]
    }
   ],
   "source": [
    "from transformers import AutoModelForCausalLM, AutoTokenizer\n",
    "\n",
    "# Model ve tokenizer'ı yükleyin\n",
    "model_name = \"cenkersisman/gpt2-turkish-900m\"\n",
    "tokenizer = AutoTokenizer.from_pretrained(model_name)\n",
    "model = AutoModelForCausalLM.from_pretrained(model_name)\n",
    "\n",
    "# Sorgu fonksiyonu\n",
    "def turkce_sorgu(sorgu, max_length=100):\n",
    "    input_ids = tokenizer.encode(sorgu, return_tensors=\"pt\")\n",
    "    output = model.generate(input_ids, max_length=max_length, pad_token_id=tokenizer.eos_token_id)\n",
    "    cevap = tokenizer.decode(output[0], skip_special_tokens=True)\n",
    "    return cevap\n",
    "\n"
   ]
  },
  {
   "cell_type": "code",
   "execution_count": 2,
   "metadata": {},
   "outputs": [
    {
     "name": "stdout",
     "output_type": "stream",
     "text": [
      "Sorgu: Nasılsın?\n",
      "Cevap: Nasılsın? (rusça: дорога дорога, dmozhay doroga, anlam: \"bir şey söylemek istiyorum\"), rus şarkıcı sergey lazarev'in ilk stüdyo albümü. albüm rusya'da 1 numaraya kadar yükseldi. albüm rusya'da 2 milyondan fazla sattı.albüm rusya'da\n",
      "\n",
      "Sorgu: Paris hakkında bilgi verir misin?\n",
      "Cevap: Paris hakkında bilgi verir misin? * i̇oannis komnenos (i. aleksios'un oğlu) * i̇oannis komnenos (i. aleksios'un oğlu) * i̇oannis komnenos (i. aleksios'un oğlu) * i̇oannis komnenos (i. aleksios'un oğlu) * i̇oannis komnenos (i\n",
      "\n"
     ]
    }
   ],
   "source": [
    "# Örnek sorgular\n",
    "sorgular = [\"Nasılsın?\", \"Paris hakkında bilgi verir misin?\"]\n",
    "\n",
    "for sorgu in sorgular:\n",
    "    print(f\"Sorgu: {sorgu}\")\n",
    "    print(f\"Cevap: {turkce_sorgu(sorgu)}\\n\")\n"
   ]
  }
 ],
 "metadata": {
  "kernelspec": {
   "display_name": "venv",
   "language": "python",
   "name": "python3"
  },
  "language_info": {
   "codemirror_mode": {
    "name": "ipython",
    "version": 3
   },
   "file_extension": ".py",
   "mimetype": "text/x-python",
   "name": "python",
   "nbconvert_exporter": "python",
   "pygments_lexer": "ipython3",
   "version": "3.12.5"
  }
 },
 "nbformat": 4,
 "nbformat_minor": 2
}
