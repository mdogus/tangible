{
 "cells": [
  {
   "cell_type": "code",
   "execution_count": 1,
   "metadata": {},
   "outputs": [
    {
     "name": "stderr",
     "output_type": "stream",
     "text": [
      "c:\\Users\\musta\\Documents\\Python Projects\\tangible\\venv_whisper\\Lib\\site-packages\\whisper\\__init__.py:150: FutureWarning: You are using `torch.load` with `weights_only=False` (the current default value), which uses the default pickle module implicitly. It is possible to construct malicious pickle data which will execute arbitrary code during unpickling (See https://github.com/pytorch/pytorch/blob/main/SECURITY.md#untrusted-models for more details). In a future release, the default value for `weights_only` will be flipped to `True`. This limits the functions that could be executed during unpickling. Arbitrary objects will no longer be allowed to be loaded via this mode unless they are explicitly allowlisted by the user via `torch.serialization.add_safe_globals`. We recommend you start setting `weights_only=True` for any use case where you don't have full control of the loaded file. Please open an issue on GitHub for any issues related to this experimental feature.\n",
      "  checkpoint = torch.load(fp, map_location=device)\n"
     ]
    }
   ],
   "source": [
    "import torch\n",
    "import whisper\n",
    "import os\n",
    "# 1) Modeli yükle (ör: 'medium' modelini seçelim)\n",
    "model_name = \"medium\"\n",
    "device = \"cuda\" if torch.cuda.is_available() else \"cpu\"\n",
    "model = whisper.load_model(model_name, device=device)\n"
   ]
  },
  {
   "cell_type": "code",
   "execution_count": 2,
   "metadata": {},
   "outputs": [
    {
     "name": "stdout",
     "output_type": "stream",
     "text": [
      "c:\\Users\\musta\\Documents\\Python Projects\\tangible\n",
      "Dosya var mı?: True\n"
     ]
    },
    {
     "name": "stderr",
     "output_type": "stream",
     "text": [
      "c:\\Users\\musta\\Documents\\Python Projects\\tangible\\venv_whisper\\Lib\\site-packages\\whisper\\transcribe.py:132: UserWarning: FP16 is not supported on CPU; using FP32 instead\n",
      "  warnings.warn(\"FP16 is not supported on CPU; using FP32 instead\")\n"
     ]
    },
    {
     "name": "stdout",
     "output_type": "stream",
     "text": [
      " Öncelikle tekrar katıldığınız için teşekkür ederim. Siz hangi programdasınız? Ben sosyoloji. Kaçın sınıftasınız? Ben DGS'den girdim oraya. Üçüncü sınıf diyebilirim. Bu sene mi girdiniz DGS'den? Yok. Bir iki sene oluyor galiba ama... Aynı süreçte devam etmeyebilir. Siz çalışıyor muydunuz? Ben çalışıyorum. Atatürk Lirası Hastanesi'nde memurum. Bu arada hangi şehirdeniniz? Antalya Murat Paşa. Antalya'dan ne güzel. Antalya güzel bir şehir. Ben de Burdurluyum aslında. Ne güzel. Şimdi Merve Hanım sizin görme kaybınız neydi acaba? Nasıl tanımlanıyor? Benim görme kaybım şu. Doğum anomalisi diyebiliriz. Annemin anneden tavsiyon yükselme sonucunda anne karnında bir sürü oksijensiz kalıyorum ve görme ilgisi etkileniyor. Bunun sonucu. Anladım. Peki neden DGS'de geçtirmediniz ya? Daha önce ne okumuştunuz? Ben iki yıllık sosyolojiler okumuştum. Afton döneminde 2013'te. Sosyoloji alanının daha geniş olduğunu fark ettim. Ben sağlık bakanlığına bağlı çalışıyorum. Belki bakanlık değiştirebilir miyim diye. Öyle başlamış oldum. Peki o örgün müydü? Açıktan mıydı acaba? Açıktan. Sizin yeni üniversitesi. Anadolu Üniversitesi. Açıktan. Ben normalde arkeolojik mezunuyum. Peki o örgün mü okudunuz? Örgün. Bu Akdeniz Üniversitesi'ni okudum. Anladım. Yani bu süreçleri deneyimlediniz. Hem örgünde hem açık öğretimde. Sınav süreçleriniz. Sizin için deneyimlediniz. Peki açık öğretimi tercih etmenizdeki nedenler neydi acaba? Yani bir yandan çalıştığım için ancak böyle yürütebilme ihtimalim vardı o yüzden. Anladım. Çalıştığınız için. Bu bunlarla birlikte. Peki bu süreçte öğrenme süreçlerini kullanıyor musunuz? Yani sistemdeki kitaplar, canlı dersler gibi sınav öncesinde ya da çalışma için bunları kullanıyor musunuz? Yani dürüst olman gerekirse. Çalışmaya pek şey. Günü yorgunluğundan heves ve zaman kalmıyor. Dürüst olman gerekirse çok özür dileyerek söylüyorum. Yok yok. Sizin kararınızdır. Yani bir şey baktığım oldu tabi. PDF'leri falan baktığım oldu. Yani benim bunu sormamın sebebi aslında şey yani sizin için ulaşılabilir mi? Sizin kullanımınız için nasıl? Bunları nasıl deneyimliyorsunuz? Tabi ki ulaşılabilir. Benim için ulaşılabilir. Siz peki bir ekran okuyucu kullanıyor musunuz ya da direkt pdf'lere ulaşıp okuyabiliyor musunuz? Yok hadi benim yakınlaşmam yetiyor. Yakınlaşmanız yetiyor. Anladım. Bir sesli ihtiyaç duymuyorum. Anladım. Peki sınavlara da giyindiniz en son geçen haftalarda dediği zaten bize sınavda olmuştu. Bu da size sınavla ilgili bilgilendirmeler nasıl yapılıyor Merve Hanım? Nasıl yapılıyor derken? Yani hani sınavın olduğundan ya da nasıl haberdar alıyorsunuz? Nereye giriyorsunuz bunun için gibi? Ben şeyden hallediyorum ya açık arası mobilden. Genelde hallediyorum. Sınav tarihlerini takip ettiğim için. İnternet sitenizde. Ona göre şey yapıp sınavdan bir hafta önce de sınav girişi belgesini alıp halledebiliyorum. Peki bu sizin için erişilebilir mi sizin bilgilendirmeleri anlamak, bilgilendirmeleri görmek anlamında falan erişilebilir mi sizin için? Evet benim için yeterli. Yeterli olur. Yani çok şükür hani öğrengelli olmadığım için. Ama tabii şey öğrenciler olabilir hani görme yetisi benden daha da zayıf olan öğrenciler olabilir tabii. Anladım. Peki burada sınav binasına ulaşım süreciniz nasıl oluyor? Orada bir zorluk oluyor mu sınav binaları ile ilgili? Yok yani üniversiteyi çoğu yenildiğim için zor olmuyor. Anladım. Yani genelde üniversiteye benziyor. Peki hep aynı yerde mi oluyorsun alınır mı? Binalar değişiyor mu? Yok yok değişiyor. Değişiyor. Aynı zamanda bir ortaokul falanla denk geliyor. Ama hani Akdeniz Üniversitesi değilsem de hani başka fakültelerinde hani. Anladım. Çok pardon. Gönül siz buyurun. Bir ses kesildi ben anlayamadım. Buyurun. Navigasyonu da hani kullanabildiğim için o önemli bir rahatsızlık olmuyor. Anladım yani farklı bir yerde çıksa oraya ulaşabiliyorsunuz rahatlıkla. Aynen. Anladım. Peki burada sınav binasına girdiğiniz sınav binasında sınav salonuna ulaşıncaya kadar sizde birileri yardımcı oluyor mu? Buna ihtiyaç duyuyor musunuz? Yok ben duymuyorum. Merdivenleri alçıka bir değil mi? Ben duymuyorum. Ama bireysel bir yine odada giriyorsunuz değil mi sınava? Yok. Normal sınav salonuna giriyoruz. Siz normal sınav salonuna giriyorsunuz? Evet. Yani benim şöyle bir şeyim olabilir. Sadece biraz daha bir punt olursa. Peki size böyle bir uyarlama yapılmıyor değil mi? Yok. Yani 18 puntlu anlamında falan? Yok. O standard. Herkese var. Peki bunu başta belirtmeniz gerekiyor mu? Ya da sizin engel rapor oranınızdan dolayı mı sağlanıyor acaba? Olabilemiyorum ama bir okut istiyorum diye bir kayıt şeyini görememiştim. Hani okutur mesela yoksinavlarında var ya 18 puntlu istiyorlar diye. Başka bir şey görmemiştim ama. Hıhı. Hocalar sınav salon başkanına dersek öyle bir şey ayarlanabilir mi bilmiyorum yani. Salon başkanı bunu ayarlayamaz ama ilk başta kayıt yenilerken falan bu rapor durumunun belirtilmesi gerekiyor. Raporunuzu yüklüyor musunuz sisteme? Tabii demiştim. Zaten akılsatörlüğü kabul edilmiyor. Anladım. Belirli bir oran var. Sizin peki ne geçiyor ciba rapor oranız? Benim eski raporum ya şu anda ama %54 oldu. Hani bir de benimle inip atıra it de var. Onun şerife %54 oldu. Sanırım bu bahar döneminde yenisini yükleyebilirim. Belki evet ondan sonra şey sağlanabilir. Yani en azından büyük puntlu sizin için yeterliyse böyle bir uyarlama sağlanabilir. Teşekkür ederim. Evet hani bunu tekrardan bir bakmak lazım. Peki sizin şu anda kullandığınız şekilde siz bağımsız bir şekilde yani belirli bir mesafeden sınav kitapçılığına okuyabiliyor musunuz? Yani şu an yakınlaşıp okuyorum. Anladım. Peki sınav salonuna gittiğinizde orada neler yaşanıyor? Nasıl bir ortam oluyor sizin için? Ya benim için iyi bir ortam hani herkesin kurallara uyduğu bir ortam zaten. Hani sınav fatire de denk getirmeye çalıştığım için. Benim için bir sıkıntı yok. Anladım. Peki o süreçte neler hissediyorsunuz? Bir bekleme süreci var. Ve orada ne tür hazırlıklar yapılıyor acaba? Yok yani benim hazırlığım klasik işte TG kodlamadır. Hani cevap kanundaki TG kodlama, kitapçık türlü kodlama falan öyle. Anladım. Peki tabii sınav sürecinde ne tür zorluklarınız oluyor acaba sizin açınızda? Yani benim başka türlü bir zorluğum olmuyor. Hani büyük bir kutu kitaptan hariç başka bir zorluğum olmuyor. Anladım. Sadece bu gerçekleşse sizin için aslında bağlanzı bir şekilde bu süreci gerçekleştirebileceksiniz. Daha iyi oldu yani düşünüyorum. Anladım. Peki bu süreçte sınav gözetmenlerine ya da oradaki salon başkanına falan bir bilgi veriyor musunuz? Böyle bir konuşmanız oluyor mu aranızda? Yok. Yok. Anladım. Ama yine de çok eksüre ihtiyacım olmuyor mesela. Hani belki bazı engelli durumlarına göre eksüre isteğin olabiliyordur belki. Ama hani sınav süresi geri gelmişken söylemek isterim. Sınav süresi de yetiyor mesela. Sizin için de yeterli bir sınav süresi. Anladım. Sorularımız arasında vardı. Bu sınav süresi ile ilgili. Anladım. Peki görevlilerin yaklaşımı ile ilgili olarak nasıl sizin açınızdan görevlilerin sınav görevlilerin bina görevlilerin yaklaşımı? Yok. Gayet ilgililer. Tamam. Benim o bakımdan da bir sıkıntım yok. Hani girişte zaten arama yapılıp kopya önüne geçilmesi için sınav görevlileri de gerekli açıklamalar yapıyorlar zaten. Anladım. Peki bu sınav bitiminde yine zaten siz bağımsız bir şekilde salondan ayrılıyorsunuz. Sonrasındaki bu sınav sonuçlarını öğrenme bu süreç nasıl gerçekleşiyor? Yok yani arada takip ediyorum açıklanmışım açıklanmamışım diye. Sosyal medyadan falan. Evet evet. Ben genelde şeyden takip ediyorum. Zaten çıkartıp mobil demen diyor işte sınav sonuçları açıklanmıştır diye. Onun sesle bilgi sahibi olup girip bakıyorum. Böyle bir bildirim falan mı geliyor mobilden? Evet mobilde olunca öyle oluyor. Anladım. Mantıcı var güzel. İyi yani hani direkt oradan öğrenmek anlamında. Ama oradan erişiminizde sıkıntı yok değil mi? Siz rahat da oradan sonuçları erişebiliyorsunuz. Herhangi bir ekstra bir düzenlemeye ihtiyaç duymuyorsunuz. Benim için hayır. Anladım. Peki bu süreçte yaşadığınız yani hem sınav sürecinde hem açık öğretimi genel olarak düşündüğünüzde gerek sinimlerinizi daha iyi karşılaması için neler yapılabilir? Önerleriniz var mı? Yani evlere yakın hani biraz daha evlere yakın okullar gelsin. Sınav yeri olarak daha iyi olabilir. Aklıma gelen bu oldu ama. Yani bir de dediğim gibi bir okun. Bir okun. Bu büyük kutulu kitap. Evet o belki işte dediğim ben de hani bu rapor değişikliğiyle birlikte bu da büyük ihtimalle talep edebileceğiniz bir şey olabilir. Ondan sonra eğer bununla ilgili bir şey gelmezse bence hani bir çağrı merkezini ya da AÖF bürosunu da arayarak özellikle Antalya'daki AÖF bürosunu arayarak bununla ilgili diğer bilgilendirmeni daha net bilgilendirmeleri kayıt yenilemeden önce bence alabilirsiniz. En azından hani kayıt yenilemeden önce bu süreci tam netleştirin. Ondan sonra bu ihtiyacınız aynı bu ihtiyacınız karşılanacaklar. En azından ikinci dönem için daha bu düzenleme yapılabilir. Çok teşekkür ederim. Ben teşekkür ederim. Katıldığınız için vakit ayırdığınız için akşam.\n"
     ]
    }
   ],
   "source": [
    "# Çalışma dizinini tangible klasörüne ayarla\n",
    "os.chdir('..')\n",
    "\n",
    "# Şu anki çalışma dizinini kontrol et\n",
    "print(os.getcwd())\n",
    "\n",
    "# 2) Transkribe edilecek dosya yolunu belirtin (örnek: test.wav)\n",
    "audio_file_path = \"data/merve_parlak.m4a\"\n",
    "print(\"Dosya var mı?:\", os.path.isfile(audio_file_path))\n",
    "\n",
    "# 3) Transkripsiyon yap\n",
    "#    Otomatik dil tespiti yapmak isterseniz \"language\" parametresini kaldırabilirsiniz\n",
    "transcription_result = model.transcribe(audio_file_path, language=\"tr\")\n",
    "\n",
    "# 4) Sonucu yazdır\n",
    "print(transcription_result[\"text\"])\n",
    "\n"
   ]
  },
  {
   "cell_type": "code",
   "execution_count": 3,
   "metadata": {},
   "outputs": [],
   "source": [
    "# 5) Sonucu bir metin dosyasına kaydetmek isterseniz\n",
    "with open(\"data/sonuc.txt\", \"w\", encoding=\"utf-8\") as f:\n",
    "    f.write(transcription_result[\"text\"])\n"
   ]
  }
 ],
 "metadata": {
  "kernelspec": {
   "display_name": "venv_whisper",
   "language": "python",
   "name": "python3"
  },
  "language_info": {
   "codemirror_mode": {
    "name": "ipython",
    "version": 3
   },
   "file_extension": ".py",
   "mimetype": "text/x-python",
   "name": "python",
   "nbconvert_exporter": "python",
   "pygments_lexer": "ipython3",
   "version": "3.12.5"
  }
 },
 "nbformat": 4,
 "nbformat_minor": 2
}
