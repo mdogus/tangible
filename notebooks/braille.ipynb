{
 "cells": [
  {
   "cell_type": "code",
   "execution_count": 1,
   "metadata": {},
   "outputs": [
    {
     "name": "stdout",
     "output_type": "stream",
     "text": [
      "c:\\Users\\musta\\Documents\\Python Projects\\tangible\n"
     ]
    }
   ],
   "source": [
    "import pandas as pd\n",
    "import re\n",
    "import os\n",
    "\n",
    "# Set the path as tangible\n",
    "os.chdir('..')\n",
    "\n",
    "# Check current path \n",
    "print(os.getcwd())\n"
   ]
  },
  {
   "cell_type": "code",
   "execution_count": 10,
   "metadata": {},
   "outputs": [
    {
     "name": "stdout",
     "output_type": "stream",
     "text": [
      "Document: 102-Ahmet Ümit _ İstanbul Hatırası\n"
     ]
    }
   ],
   "source": [
    "# Read the text file\n",
    "file_path = 'data/contractions/102-Ahmet Ümit _ İstanbul Hatırası.txt'\n",
    "base_name = os.path.basename(file_path)\n",
    "document_name = os.path.splitext(base_name)[0]\n",
    "print(\"Document: \" + document_name)\n",
    "\n",
    "\n",
    "with open(file_path, 'r', encoding='utf-8') as f:\n",
    "    text = f.read()\n"
   ]
  },
  {
   "cell_type": "code",
   "execution_count": 11,
   "metadata": {},
   "outputs": [],
   "source": [
    "# 1) Küçük harfe dönüştür\n",
    "text = text.lower()\n",
    "\n",
    "# 2) Noktalama işaretlerini sil (regex ile)\n",
    "#    Burada ^\\w\\s -> Alfanumerik karakterler ve boşluklar dışındaki her şeyi temizleyecek.\n",
    "text = re.sub(r'[^\\w\\s]', '', text)\n",
    "\n",
    "# 3) Sayı vb. temizlemek isterseniz ekstra regexler ekleyebilirsiniz\n",
    "# (Örn. text = re.sub(r'\\d+', '', text) gibi)\n",
    "text = re.sub(r'\\d+', '', text)\n",
    "\n",
    "# Tokenization\n",
    "tokens = text.split()  # Boşluk karakterine göre ayırır\n"
   ]
  },
  {
   "cell_type": "code",
   "execution_count": 12,
   "metadata": {},
   "outputs": [
    {
     "name": "stdout",
     "output_type": "stream",
     "text": [
      "        word  count                              source\n",
      "3709     bir   3580  102-Ahmet Ümit _ İstanbul Hatırası\n",
      "4077      bu   1690  102-Ahmet Ümit _ İstanbul Hatırası\n",
      "5357      de   1534  102-Ahmet Ümit _ İstanbul Hatırası\n",
      "754      ama   1190  102-Ahmet Ümit _ İstanbul Hatırası\n",
      "5106      da   1113  102-Ahmet Ümit _ İstanbul Hatırası\n",
      "17469     ne   1010  102-Ahmet Ümit _ İstanbul Hatırası\n",
      "9102    gibi    950  102-Ahmet Ümit _ İstanbul Hatırası\n",
      "17710      o    870  102-Ahmet Ümit _ İstanbul Hatırası\n",
      "6057    diye    675  102-Ahmet Ümit _ İstanbul Hatırası\n",
      "12372   için    619  102-Ahmet Ümit _ İstanbul Hatırası\n",
      "5108    daha    567  102-Ahmet Ümit _ İstanbul Hatırası\n",
      "12699  kadar    482  102-Ahmet Ümit _ İstanbul Hatırası\n",
      "16896     mi    457  102-Ahmet Ümit _ İstanbul Hatırası\n",
      "3343     ben    439  102-Ahmet Ümit _ İstanbul Hatırası\n",
      "14312     ki    431  102-Ahmet Ümit _ İstanbul Hatırası\n",
      "5737   değil    427  102-Ahmet Ümit _ İstanbul Hatırası\n",
      "533      ali    421  102-Ahmet Ümit _ İstanbul Hatırası\n",
      "24005     ve    386  102-Ahmet Ümit _ İstanbul Hatırası\n",
      "27194    çok    356  102-Ahmet Ümit _ İstanbul Hatırası\n",
      "11441    iki    354  102-Ahmet Ümit _ İstanbul Hatırası\n"
     ]
    }
   ],
   "source": [
    "# Create data frame\n",
    "df = pd.DataFrame(tokens, columns=['word'])\n",
    "df['count'] = 1\n",
    "\n",
    "# Gruplayarak frekans (count) değerini hesapla\n",
    "word_counts = df.groupby('word')['count'].sum().reset_index()\n",
    "# Dosya ismini ekle\n",
    "word_counts['source'] = document_name\n",
    "\n",
    "# Frekansına göre büyükten küçüğe sırala\n",
    "word_counts = word_counts.sort_values('count', ascending=False)\n",
    "\n",
    "# İlk 20 kelimeyi görüntüleyelim\n",
    "print(word_counts.head(20))\n"
   ]
  },
  {
   "cell_type": "code",
   "execution_count": 13,
   "metadata": {},
   "outputs": [],
   "source": [
    "# CSV dosyasına kaydet\n",
    "csv_path = 'data/contractions/word_frequencies.csv'\n",
    "if not os.path.exists(csv_path):\n",
    "    # CSV yoksa oluştur (header dahil)\n",
    "    word_counts.to_csv(csv_path, index=False, encoding='utf-8')\n",
    "else:\n",
    "    # CSV varsa oku ve birleştir (append)\n",
    "    existing_df = pd.read_csv(csv_path)\n",
    "    combined_df = pd.concat([existing_df, word_counts], ignore_index=True)\n",
    "    combined_df.to_csv(csv_path, index=False, encoding='utf-8')\n"
   ]
  }
 ],
 "metadata": {
  "kernelspec": {
   "display_name": "venv",
   "language": "python",
   "name": "python3"
  },
  "language_info": {
   "codemirror_mode": {
    "name": "ipython",
    "version": 3
   },
   "file_extension": ".py",
   "mimetype": "text/x-python",
   "name": "python",
   "nbconvert_exporter": "python",
   "pygments_lexer": "ipython3",
   "version": "3.12.5"
  }
 },
 "nbformat": 4,
 "nbformat_minor": 2
}
